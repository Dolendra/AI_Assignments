{
 "cells": [
  {
   "cell_type": "markdown",
   "id": "46ca4eec",
   "metadata": {},
   "source": [
    "Rabbit Stream Crossing Problem"
   ]
  },
  {
   "cell_type": "code",
   "execution_count": 1,
   "id": "050a55ea",
   "metadata": {},
   "outputs": [
    {
     "name": "stdout",
     "output_type": "stream",
     "text": [
      "['R', '_', 'R', 'R', 'L', 'L', 'L']\n",
      "['R', 'R', '_', 'R', 'L', 'L', 'L']\n",
      "['R', 'R', 'R', 'L', '_', 'L', 'L']\n",
      "['R', 'R', 'R', 'L', 'L', '_', 'L']\n"
     ]
    }
   ],
   "source": [
    "class State:\n",
    "    def __init__(self,positions):\n",
    "        self.positions = positions\n",
    "        \n",
    "    def goalTest(self):\n",
    "        goal = ['L','L','L','_','R','R','R']\n",
    "        return goal == self.positions\n",
    "\n",
    "    def moveGen(self):\n",
    "        children = []\n",
    "        for i in range(len(self.positions)):\n",
    "            if(self.positions[i]=='R'):\n",
    "                if(i+1<len(self.positions) and self.positions[i+1]=='_'):\n",
    "                    new_pos = self.positions.copy()\n",
    "                    new_pos[i],new_pos[i+1] = new_pos[i+1],new_pos[i]\n",
    "                    new_state = State(new_pos)\n",
    "                    children.append(new_state)\n",
    "                if(i+2<len(self.positions) and self.positions[i+2]=='_'):\n",
    "                    new_pos = self.positions.copy()\n",
    "                    new_pos[i],new_pos[i+2] = new_pos[i+2],new_pos[i]\n",
    "                    new_state = State(new_pos)\n",
    "                    children.append(new_state)\n",
    "            elif(self.positions[i]=='L'):\n",
    "                if(i-1>=0 and self.positions[i-1]=='_'):\n",
    "                    new_pos = self.positions.copy()\n",
    "                    new_pos[i],new_pos[i-1] = new_pos[i-1],new_pos[i]\n",
    "                    new_state = State(new_pos)\n",
    "                    children.append(new_state)\n",
    "                if(i-2>=0 and self.positions[i-2]=='_'):\n",
    "                    new_pos = self.positions.copy()\n",
    "                    new_pos[i],new_pos[i-2] = new_pos[i-2],new_pos[i]\n",
    "                    new_state = State(new_pos)\n",
    "                    children.append(new_state)\n",
    "        return children\n",
    "    \n",
    "    def __eq__(self, other):\n",
    "        return isinstance(other,State) and self.positions == other.positions\n",
    "    \n",
    "    def __hash__(self):\n",
    "        return hash(tuple(self.positions))\n",
    "    \n",
    "    def __str__(self):\n",
    "        return f\"{self.positions}\"\n",
    "    \n",
    "state1 = State(['R','R','R','_','L','L','L'])\n",
    "children = state1.moveGen()\n",
    "for i in children:\n",
    "    print(i)"
   ]
  },
  {
   "cell_type": "markdown",
   "id": "e2c8c107",
   "metadata": {},
   "source": [
    "Breadth First Search (BFS)"
   ]
  },
  {
   "cell_type": "code",
   "execution_count": 2,
   "id": "02533c45",
   "metadata": {},
   "outputs": [
    {
     "name": "stdout",
     "output_type": "stream",
     "text": [
      "['L', 'L', 'L', '_', 'R', 'R', 'R']\n",
      "['L', 'L', 'L', 'R', '_', 'R', 'R']\n",
      "['L', 'L', '_', 'R', 'L', 'R', 'R']\n",
      "['L', '_', 'L', 'R', 'L', 'R', 'R']\n",
      "['L', 'R', 'L', '_', 'L', 'R', 'R']\n",
      "['L', 'R', 'L', 'R', 'L', '_', 'R']\n",
      "['L', 'R', 'L', 'R', 'L', 'R', '_']\n",
      "['L', 'R', 'L', 'R', '_', 'R', 'L']\n",
      "['L', 'R', '_', 'R', 'L', 'R', 'L']\n",
      "['_', 'R', 'L', 'R', 'L', 'R', 'L']\n",
      "['R', '_', 'L', 'R', 'L', 'R', 'L']\n",
      "['R', 'R', 'L', '_', 'L', 'R', 'L']\n",
      "['R', 'R', 'L', 'R', 'L', '_', 'L']\n",
      "['R', 'R', 'L', 'R', '_', 'L', 'L']\n",
      "['R', 'R', '_', 'R', 'L', 'L', 'L']\n",
      "['R', 'R', 'R', '_', 'L', 'L', 'L']\n",
      "----END----\n"
     ]
    }
   ],
   "source": [
    "def removeSeen(children,OPEN,CLOSED):\n",
    "    open_nodes = [o for o,_ in OPEN]\n",
    "    closed_nodes = [c for c,_ in CLOSED]\n",
    "    new_nodes = [n for n in children if n not in open_nodes and n not in closed_nodes]\n",
    "    return new_nodes\n",
    "\n",
    "def reconstructPath(CLOSED,node):\n",
    "    pmap = {}\n",
    "    path = []\n",
    "    while CLOSED:\n",
    "        n,parent = CLOSED.pop()\n",
    "        pmap[n] = parent\n",
    "    while node:\n",
    "        path.append(node)\n",
    "        node = pmap[node]\n",
    "    return path\n",
    "\n",
    "def printPath(path):\n",
    "    k = 0\n",
    "    for i in path:\n",
    "        print(i)\n",
    "\n",
    "def bfs(state):\n",
    "    OPEN = [(state,None)]\n",
    "    CLOSED = []\n",
    "    while OPEN:\n",
    "        n,parent = OPEN.pop(0)\n",
    "        CLOSED.append((n,parent))\n",
    "        if(n.goalTest()):\n",
    "            path = reconstructPath(CLOSED,n)\n",
    "            printPath(path)\n",
    "            print(\"----END----\")\n",
    "            return\n",
    "        children = n.moveGen()\n",
    "        valid_nodes = removeSeen(children,OPEN,CLOSED)\n",
    "        new_nodes = [(node,n) for node in valid_nodes]\n",
    "        OPEN = OPEN + new_nodes\n",
    "    return []\n",
    "\n",
    "state1 = State(['R','R','R','_','L','L','L'])\n",
    "bfs(state1)"
   ]
  },
  {
   "cell_type": "markdown",
   "id": "d604a47a",
   "metadata": {},
   "source": [
    "Depth First Search (DFS)"
   ]
  },
  {
   "cell_type": "code",
   "execution_count": 3,
   "id": "a241124e",
   "metadata": {},
   "outputs": [
    {
     "name": "stdout",
     "output_type": "stream",
     "text": [
      "['L', 'L', 'L', '_', 'R', 'R', 'R']\n",
      "['L', 'L', 'L', 'R', '_', 'R', 'R']\n",
      "['L', 'L', '_', 'R', 'L', 'R', 'R']\n",
      "['L', '_', 'L', 'R', 'L', 'R', 'R']\n",
      "['L', 'R', 'L', '_', 'L', 'R', 'R']\n",
      "['L', 'R', 'L', 'R', 'L', '_', 'R']\n",
      "['L', 'R', 'L', 'R', 'L', 'R', '_']\n",
      "['L', 'R', 'L', 'R', '_', 'R', 'L']\n",
      "['L', 'R', '_', 'R', 'L', 'R', 'L']\n",
      "['_', 'R', 'L', 'R', 'L', 'R', 'L']\n",
      "['R', '_', 'L', 'R', 'L', 'R', 'L']\n",
      "['R', 'R', 'L', '_', 'L', 'R', 'L']\n",
      "['R', 'R', 'L', 'R', 'L', '_', 'L']\n",
      "['R', 'R', 'L', 'R', '_', 'L', 'L']\n",
      "['R', 'R', '_', 'R', 'L', 'L', 'L']\n",
      "['R', 'R', 'R', '_', 'L', 'L', 'L']\n",
      "----END----\n"
     ]
    }
   ],
   "source": [
    "def dfs(state):\n",
    "    OPEN = [(state,None)]\n",
    "    CLOSED = []\n",
    "    while OPEN:\n",
    "        n,parent = OPEN.pop(0)\n",
    "        CLOSED.append((n,parent))\n",
    "        if(n.goalTest()):\n",
    "            path = reconstructPath(CLOSED,n)\n",
    "            printPath(path)\n",
    "            print(\"----END----\")\n",
    "            return\n",
    "        children = n.moveGen()\n",
    "        valid_nodes = removeSeen(children,OPEN,CLOSED)\n",
    "        new_nodes = [(node,n) for node in valid_nodes]\n",
    "        OPEN = new_nodes + OPEN \n",
    "    return []\n",
    "\n",
    "state1 = State(['R','R','R','_','L','L','L'])\n",
    "dfs(state1)"
   ]
  },
  {
   "cell_type": "code",
   "execution_count": null,
   "id": "020ff44d",
   "metadata": {},
   "outputs": [],
   "source": []
  },
  {
   "cell_type": "code",
   "execution_count": null,
   "id": "99bcae19",
   "metadata": {},
   "outputs": [],
   "source": []
  }
 ],
 "metadata": {
  "kernelspec": {
   "display_name": "Python 3",
   "language": "python",
   "name": "python3"
  },
  "language_info": {
   "codemirror_mode": {
    "name": "ipython",
    "version": 3
   },
   "file_extension": ".py",
   "mimetype": "text/x-python",
   "name": "python",
   "nbconvert_exporter": "python",
   "pygments_lexer": "ipython3",
   "version": "3.13.2"
  }
 },
 "nbformat": 4,
 "nbformat_minor": 5
}
