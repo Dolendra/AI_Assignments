{
 "cells": [
  {
   "cell_type": "markdown",
   "id": "460d98ed",
   "metadata": {},
   "source": [
    "Bridge_Crossing Problem"
   ]
  },
  {
   "cell_type": "code",
   "execution_count": 19,
   "id": "d8f2d1fd",
   "metadata": {},
   "outputs": [
    {
     "name": "stdout",
     "output_type": "stream",
     "text": [
      "State: [1, 0, 0, 0], Time: 5 mins\n",
      "State: [1, 1, 0, 0], Time: 10 mins\n",
      "State: [1, 0, 1, 0], Time: 20 mins\n",
      "State: [1, 0, 0, 1], Time: 25 mins\n",
      "State: [0, 1, 0, 0], Time: 10 mins\n",
      "State: [0, 1, 1, 0], Time: 20 mins\n",
      "State: [0, 1, 0, 1], Time: 25 mins\n",
      "State: [0, 0, 1, 0], Time: 20 mins\n",
      "State: [0, 0, 1, 1], Time: 25 mins\n",
      "State: [0, 0, 0, 1], Time: 25 mins\n"
     ]
    }
   ],
   "source": [
    "class CrossingState:\n",
    "\n",
    "    def __init__(self, state, treq, time, umb):\n",
    "        self.state = state     \n",
    "        self.treq = treq          \n",
    "        self.time = time          \n",
    "        self.umb = umb            \n",
    "\n",
    "    def is_goal_state(self):\n",
    "        return self.state == [1, 1, 1, 1]\n",
    "\n",
    "    def generate_children(self):\n",
    "        next_states = []\n",
    "\n",
    "        for i in range(len(self.state)):\n",
    "            for j in range(i, len(self.state)):\n",
    "\n",
    "                if self.state[i] == self.umb and self.state[j] == self.umb:\n",
    "                    if i == j:\n",
    "                        temp_time = self.time + self.treq[i]\n",
    "                        if temp_time <= 60:\n",
    "                            temp_state = self.state[:]\n",
    "                            temp_state[i] = 1 - temp_state[i]\n",
    "                            temp_umb = 1 - self.umb\n",
    "                            next_states.append(CrossingState(temp_state, self.treq, temp_time, temp_umb))\n",
    "\n",
    "                    # Two people moving together\n",
    "                    elif self.state[i] == self.state[j]:\n",
    "                        max_time = max(self.treq[i], self.treq[j])\n",
    "                        temp_time = self.time + max_time\n",
    "                        if temp_time <= 60:\n",
    "                            temp_state = self.state[:]\n",
    "                            temp_state[i] = 1 - temp_state[i]\n",
    "                            temp_state[j] = 1 - temp_state[j]\n",
    "                            temp_umb = 1 - self.umb\n",
    "                            next_states.append(CrossingState(temp_state, self.treq, temp_time, temp_umb))\n",
    "\n",
    "        return next_states\n",
    "\n",
    "    def __eq__(self, other):\n",
    "        return isinstance(other, CrossingState) and self.state == other.state and self.umb == other.umb\n",
    "\n",
    "    def __hash__(self):\n",
    "        return hash((tuple(self.state), self.umb))\n",
    "\n",
    "    def __str__(self):\n",
    "        return f'State: {self.state}, Time: {self.time} mins'\n",
    "\n",
    "# Initial setup\n",
    "initial = CrossingState([0, 0, 0, 0], [5, 10, 20, 25], 0, 0)\n",
    "results = initial.generate_children()\n",
    "\n",
    "for child in results:\n",
    "    print(child)"
   ]
  },
  {
   "cell_type": "markdown",
   "id": "e00b6116",
   "metadata": {},
   "source": [
    "Breadth First Search (BFS)"
   ]
  },
  {
   "cell_type": "code",
   "execution_count": 23,
   "id": "a5d286fe",
   "metadata": {},
   "outputs": [
    {
     "name": "stdout",
     "output_type": "stream",
     "text": [
      "State: [0, 0, 0, 0], Time: 0 mins\n",
      "State: [1, 1, 0, 0], Time: 10 mins\n",
      "State: [0, 1, 0, 0], Time: 15 mins\n",
      "State: [0, 1, 1, 1], Time: 40 mins\n",
      "State: [0, 0, 1, 1], Time: 50 mins\n",
      "State: [1, 1, 1, 1], Time: 60 mins\n",
      "Done!\n"
     ]
    }
   ],
   "source": [
    "def reconstructPath(CLOSED,node):\n",
    "  pmap = {}\n",
    "  path = []\n",
    "  while CLOSED:\n",
    "    n,parent = CLOSED.pop()\n",
    "    pmap[n] = parent\n",
    "  while node:\n",
    "    path.append(node)\n",
    "    node = pmap[node]\n",
    "  path.reverse()\n",
    "  return path\n",
    "\n",
    "\n",
    "\n",
    "def removeSeen(children,OPEN,CLOSED):\n",
    "  open_nodes = [o for o,_ in OPEN]\n",
    "  closed_nodes = [c for c,_ in CLOSED]\n",
    "  nodes = [n for n in children if n not in open_nodes and n not in closed_nodes]\n",
    "  return nodes\n",
    "\n",
    "\n",
    "def bfs(state):\n",
    "  OPEN = [(state,None)]\n",
    "  CLOSED = []\n",
    "  while OPEN:\n",
    "    n,parent = OPEN.pop(0)\n",
    "    CLOSED.append((n,parent))\n",
    "    if n.is_goal_state():\n",
    "      path = reconstructPath(CLOSED,n)\n",
    "      for i in path:\n",
    "        print(i)\n",
    "      print(\"Done!\")\n",
    "      return\n",
    "    else:\n",
    "      children = n.generate_children()\n",
    "      valid_child = removeSeen(children,OPEN,CLOSED)\n",
    "      new_pairs = [(child,n) for child in valid_child]\n",
    "      OPEN = OPEN + new_pairs\n",
    "  return []\n",
    "\n",
    "\n",
    "state1 = CrossingState([0,0,0,0],[5,10,20,25],0,0)\n",
    "bfs(state1)"
   ]
  },
  {
   "cell_type": "markdown",
   "id": "86637467",
   "metadata": {},
   "source": [
    "Depth First Search (DFS)"
   ]
  },
  {
   "cell_type": "code",
   "execution_count": 21,
   "id": "d80dc2ad",
   "metadata": {},
   "outputs": [
    {
     "name": "stdout",
     "output_type": "stream",
     "text": [
      "State: [0, 0, 0, 0], Time: 0 mins\n",
      "State: [1, 1, 0, 0], Time: 10 mins\n",
      "State: [0, 1, 0, 0], Time: 15 mins\n",
      "State: [0, 1, 1, 1], Time: 40 mins\n",
      "State: [0, 0, 1, 1], Time: 50 mins\n",
      "State: [1, 1, 1, 1], Time: 60 mins\n",
      "Done!\n"
     ]
    }
   ],
   "source": [
    "def dfs(state):\n",
    "    OPEN = [(state,None)]\n",
    "    CLOSED = []\n",
    "    while OPEN:\n",
    "        n,parent = OPEN.pop(0)\n",
    "        CLOSED.append((n,parent))\n",
    "        if n.is_goal_state():\n",
    "            path = reconstructPath(CLOSED,n)\n",
    "            for i in path:\n",
    "                print(i)\n",
    "            print(\"Done!\")\n",
    "            return\n",
    "        else:\n",
    "            children = n.generate_children()\n",
    "            valid_child = removeSeen(children,OPEN,CLOSED)\n",
    "            new_pairs = [(child,n) for child in valid_child]\n",
    "            OPEN = new_pairs + OPEN\n",
    "    return []\n",
    "\n",
    "state1 = CrossingState([0,0,0,0],[5,10,20,25],0,0)\n",
    "dfs(state1)"
   ]
  },
  {
   "cell_type": "code",
   "execution_count": null,
   "id": "dc7d016e",
   "metadata": {},
   "outputs": [],
   "source": []
  },
  {
   "cell_type": "code",
   "execution_count": null,
   "id": "48f5328b",
   "metadata": {},
   "outputs": [],
   "source": []
  }
 ],
 "metadata": {
  "kernelspec": {
   "display_name": "Python 3",
   "language": "python",
   "name": "python3"
  },
  "language_info": {
   "codemirror_mode": {
    "name": "ipython",
    "version": 3
   },
   "file_extension": ".py",
   "mimetype": "text/x-python",
   "name": "python",
   "nbconvert_exporter": "python",
   "pygments_lexer": "ipython3",
   "version": "3.13.2"
  }
 },
 "nbformat": 4,
 "nbformat_minor": 5
}
